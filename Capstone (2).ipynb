{
 "cells": [
  {
   "cell_type": "markdown",
   "metadata": {},
   "source": [
    "# Introduction \n",
    "\n",
    "For the past 5 years I have been living in Brooklyn. Although I would never move out of here, I recently got a new job offer that significantly increases my spending power and made me to consider about the possibility to move the new place somewhere in Manhattan. Therefore, with the help of skills I have acquired during this course I want to explore rent apartments in Manhattan. "
   ]
  },
  {
   "cell_type": "markdown",
   "metadata": {},
   "source": [
    "# What am I solving? \n",
    "\n",
    "Knowing that the Manhattan is one of the most expensive places to live, I want find a place to live in manhattan based on the following criterias\n",
    "\n",
    "** One bed apartment that does not exceed $4000/month. \n",
    "** No more than 1 mile distance to the neareast subway station. "
   ]
  },
  {
   "cell_type": "markdown",
   "metadata": {},
   "source": [
    "# What data do I need?\n",
    "\n",
    "I believe that there are four different data needed to make an accurate desicion: \n",
    "    * Neighborhood\n",
    "    * Borough\n",
    "    * Latitude \n",
    "    * Longitude\n",
    "    \n",
    "Moreover, I will need the map of subway stations in Manhattan whihc I can find here:\n",
    "    https://en.wikipedia.org/wiki/List_of_New_York_City_Subway_stations_in_Manhattan\n",
    "        \n",
    "And the rent listings: \n",
    "    http://www.rentmanhattan.com/index.cfm?page=search&state=results\n",
    "        https://www.nestpick.com/search?city=new-york&page=1&order=relevance&district=manhattan&gclid=CjwKCAiAjNjgBRAgEiwAGLlf2hkP3A-cPxjZYkURqQEswQK2jKQEpv_MvKcrIhRWRzNkc_r-fGi0lxoCA7cQAvD_BwE&type=apartment&display=list\n",
    "            https://www.realtor.com/apartments/Manhattan_NY"
   ]
  },
  {
   "cell_type": "markdown",
   "metadata": {},
   "source": [
    "# How will I use data? \n",
    "\n",
    "I believe I will do top 10 venues for all Manhattan neighborhouds and cluster in groups using Foursquare. I will make separate map for subway stations. "
   ]
  }
 ],
 "metadata": {
  "kernelspec": {
   "display_name": "Python 3.6",
   "language": "python",
   "name": "python3"
  },
  "language_info": {
   "codemirror_mode": {
    "name": "ipython",
    "version": 3
   },
   "file_extension": ".py",
   "mimetype": "text/x-python",
   "name": "python",
   "nbconvert_exporter": "python",
   "pygments_lexer": "ipython3",
   "version": "3.6.8"
  }
 },
 "nbformat": 4,
 "nbformat_minor": 1
}
